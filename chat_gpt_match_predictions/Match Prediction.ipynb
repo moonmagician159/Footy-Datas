{
 "cells": [
  {
   "cell_type": "code",
   "execution_count": 1,
   "id": "82d0c3b3",
   "metadata": {},
   "outputs": [],
   "source": [
    "import requests\n",
    "\n",
    "import pandas as pd\n",
    "\n",
    "from bs4 import BeautifulSoup\n",
    "\n",
    "import warnings\n",
    "warnings.filterwarnings('ignore')"
   ]
  },
  {
   "cell_type": "code",
   "execution_count": 2,
   "id": "68d369d5",
   "metadata": {},
   "outputs": [],
   "source": [
    "# Collect all historical data\n",
    "\n",
    "# For some reason i'm permabanned on FBREF english website lol\n",
    "# So i scraped the /es/ website instead\n",
    "def scrape_fbref_table_results(start_year, end_year, competition=''):\n",
    "    all_tables = []\n",
    "    headers = {\n",
    "        'authority': 'forms.hscollectedforms.net',\n",
    "        'accept': 'application/json, text/plain, */*',\n",
    "        'accept-language': 'en-US,en;q=0.9',\n",
    "        'dnt': '1',\n",
    "        'origin': 'https://fbref.com',\n",
    "        'referer': 'https://fbref.com/en/comps/12/La-Liga-Stats',\n",
    "        'sec-ch-ua': '\"Not.A/Brand\";v=\"8\", \"Chromium\";v=\"114\"',\n",
    "        'sec-ch-ua-mobile': '?0',\n",
    "        'sec-ch-ua-platform': '\"macOS\"',\n",
    "        'sec-fetch-dest': 'empty',\n",
    "        'sec-fetch-mode': 'cors',\n",
    "        'sec-fetch-site': 'cross-site',\n",
    "        'user-agent': 'Mozilla/5.0 (Macintosh; Intel Mac OS X 10_15_7) AppleWebKit/537.36 (KHTML, like Gecko) Chrome/114.0.0.0 Safari/537.36',\n",
    "    }\n",
    "\n",
    "    for i in range(int(start_year), int(end_year)):\n",
    "        url = f'https://fbref.com/es/comps/12/{i}-{i + 1}/schedule/{i}-{i + 1}-La-Liga-Scores-and-Fixtures'\n",
    "        response = requests.get(url, headers=headers)\n",
    "        soup = BeautifulSoup(response.text, 'html.parser')\n",
    "        results_table = soup.find_all('table')\n",
    "        df = pd.read_html(str(results_table))[0]\n",
    "        all_tables.append(df)\n",
    "\n",
    "    df = pd.concat(all_tables)\n",
    "\n",
    "    return df\n",
    "\n",
    "df = scrape_fbref_table_results(2017, 2023)"
   ]
  },
  {
   "cell_type": "code",
   "execution_count": 84,
   "id": "8e1bb303",
   "metadata": {},
   "outputs": [],
   "source": [
    "# Rename columns\n",
    "df = df.rename(columns={\n",
    "    'Sem.': 'Week',\n",
    "    'Día': 'Day',\n",
    "    'Fecha': 'Date',\n",
    "    'Hora': 'Time',\n",
    "    'Local': 'Home',\n",
    "    'Marcador': 'Score',\n",
    "    'xG.1': 'xg_away',\n",
    "    'Visitante': 'Away',\n",
    "    'Asistencia': 'Attendance',\n",
    "    'Sedes': 'Venue'\n",
    "})\n",
    "\n",
    "# df.drop(['Árbitro', 'Informe del partido', 'Notas'], axis=1, inplace=True)"
   ]
  },
  {
   "cell_type": "code",
   "execution_count": 85,
   "outputs": [
    {
     "data": {
      "text/plain": "Index(['Week', 'Day', 'Date', 'Time', 'Home', 'xG', 'Score', 'xg_away', 'Away',\n       'Attendance', 'Venue'],\n      dtype='object')"
     },
     "execution_count": 85,
     "metadata": {},
     "output_type": "execute_result"
    }
   ],
   "source": [
    "df.columns"
   ],
   "metadata": {
    "collapsed": false
   }
  },
  {
   "cell_type": "code",
   "execution_count": 86,
   "id": "bb998afb",
   "metadata": {},
   "outputs": [
    {
     "data": {
      "text/plain": "   Week  Day        Date   Time        Home   xG Score  xg_away  \\\n0   1.0  Vie  2017-08-18  20:15     Leganés  1.3   1–0      1.1   \n1   1.0  Vie  2017-08-18  22:15    Valencia  1.4   1–0      0.2   \n2   1.0  Sáb  2017-08-19  18:15  Celta Vigo  1.8   2–3      2.1   \n3   1.0  Sáb  2017-08-19  20:15      Girona  2.2   2–2      0.7   \n4   1.0  Sáb  2017-08-19  22:15     Sevilla  2.4   1–1      1.3   \n\n              Away  Attendance                          Venue  \n0           Alavés      9231.0  Estadio Municipal de Butarque  \n1       Las Palmas     35971.0            Estadio de Mestalla  \n2    Real Sociedad     16961.0            Estadio de Balaídos  \n3  Atlético Madrid     11511.0  Estadi Municipal de Montilivi  \n4         Espanyol     30487.0  Estadio Ramón Sánchez Pizjuán  ",
      "text/html": "<div>\n<style scoped>\n    .dataframe tbody tr th:only-of-type {\n        vertical-align: middle;\n    }\n\n    .dataframe tbody tr th {\n        vertical-align: top;\n    }\n\n    .dataframe thead th {\n        text-align: right;\n    }\n</style>\n<table border=\"1\" class=\"dataframe\">\n  <thead>\n    <tr style=\"text-align: right;\">\n      <th></th>\n      <th>Week</th>\n      <th>Day</th>\n      <th>Date</th>\n      <th>Time</th>\n      <th>Home</th>\n      <th>xG</th>\n      <th>Score</th>\n      <th>xg_away</th>\n      <th>Away</th>\n      <th>Attendance</th>\n      <th>Venue</th>\n    </tr>\n  </thead>\n  <tbody>\n    <tr>\n      <th>0</th>\n      <td>1.0</td>\n      <td>Vie</td>\n      <td>2017-08-18</td>\n      <td>20:15</td>\n      <td>Leganés</td>\n      <td>1.3</td>\n      <td>1–0</td>\n      <td>1.1</td>\n      <td>Alavés</td>\n      <td>9231.0</td>\n      <td>Estadio Municipal de Butarque</td>\n    </tr>\n    <tr>\n      <th>1</th>\n      <td>1.0</td>\n      <td>Vie</td>\n      <td>2017-08-18</td>\n      <td>22:15</td>\n      <td>Valencia</td>\n      <td>1.4</td>\n      <td>1–0</td>\n      <td>0.2</td>\n      <td>Las Palmas</td>\n      <td>35971.0</td>\n      <td>Estadio de Mestalla</td>\n    </tr>\n    <tr>\n      <th>2</th>\n      <td>1.0</td>\n      <td>Sáb</td>\n      <td>2017-08-19</td>\n      <td>18:15</td>\n      <td>Celta Vigo</td>\n      <td>1.8</td>\n      <td>2–3</td>\n      <td>2.1</td>\n      <td>Real Sociedad</td>\n      <td>16961.0</td>\n      <td>Estadio de Balaídos</td>\n    </tr>\n    <tr>\n      <th>3</th>\n      <td>1.0</td>\n      <td>Sáb</td>\n      <td>2017-08-19</td>\n      <td>20:15</td>\n      <td>Girona</td>\n      <td>2.2</td>\n      <td>2–2</td>\n      <td>0.7</td>\n      <td>Atlético Madrid</td>\n      <td>11511.0</td>\n      <td>Estadi Municipal de Montilivi</td>\n    </tr>\n    <tr>\n      <th>4</th>\n      <td>1.0</td>\n      <td>Sáb</td>\n      <td>2017-08-19</td>\n      <td>22:15</td>\n      <td>Sevilla</td>\n      <td>2.4</td>\n      <td>1–1</td>\n      <td>1.3</td>\n      <td>Espanyol</td>\n      <td>30487.0</td>\n      <td>Estadio Ramón Sánchez Pizjuán</td>\n    </tr>\n  </tbody>\n</table>\n</div>"
     },
     "execution_count": 86,
     "metadata": {},
     "output_type": "execute_result"
    }
   ],
   "source": [
    "# Display the first few rows of the dataframe\n",
    "df.head()"
   ]
  },
  {
   "cell_type": "code",
   "execution_count": 87,
   "id": "e6ba314b",
   "metadata": {},
   "outputs": [
    {
     "data": {
      "text/plain": "Week          245\nDay           245\nDate          245\nTime          245\nHome          245\nxG            245\nScore         245\nxg_away       245\nAway          245\nAttendance    733\nVenue         245\ndtype: int64"
     },
     "execution_count": 87,
     "metadata": {},
     "output_type": "execute_result"
    }
   ],
   "source": [
    "df.isnull().sum()"
   ]
  },
  {
   "cell_type": "code",
   "execution_count": 88,
   "id": "1f643a1d",
   "metadata": {},
   "outputs": [],
   "source": [
    "df = df.drop(['Attendance'], axis=1) # removing attendance since we don't have it for all games and won't know it for future games\n",
    "df = df.dropna()"
   ]
  },
  {
   "cell_type": "code",
   "execution_count": 89,
   "id": "913b1690",
   "metadata": {},
   "outputs": [
    {
     "name": "stdout",
     "output_type": "stream",
     "text": [
      "Week       0\n",
      "Day        0\n",
      "Date       0\n",
      "Time       0\n",
      "Home       0\n",
      "xG         0\n",
      "Score      0\n",
      "xg_away    0\n",
      "Away       0\n",
      "Venue      0\n",
      "dtype: int64\n"
     ]
    }
   ],
   "source": [
    "print(df.isnull().sum())"
   ]
  },
  {
   "cell_type": "code",
   "execution_count": 90,
   "outputs": [],
   "source": [
    "df = df.reset_index(drop=True)"
   ],
   "metadata": {
    "collapsed": false
   }
  },
  {
   "cell_type": "code",
   "execution_count": 91,
   "id": "c91cc69f",
   "metadata": {},
   "outputs": [],
   "source": [
    "# Convert 'Score' column into 'HomeGoals' and 'AwayGoals'\n",
    "df['HomeGoals'] = df['Score'].str.split('–', expand=True)[0].astype(int)\n",
    "df['AwayGoals'] = df['Score'].str.split('–', expand=True)[1].astype(int)\n",
    "\n",
    "# Drop the original 'Score' column\n",
    "df = df.drop(columns=['Score'])\n"
   ]
  },
  {
   "cell_type": "code",
   "execution_count": 92,
   "id": "ea667af1",
   "metadata": {},
   "outputs": [],
   "source": [
    "# Calculate win rates for each team including draws\n",
    "team_win_rates = {}\n",
    "for team in pd.concat([df['Home'], df['Away']]).unique():\n",
    "    home_wins = len(df[(df['Home'] == team) & (df['HomeGoals'] > df['AwayGoals'])])\n",
    "    away_wins = len(df[(df['Away'] == team) & (df['AwayGoals'] > df['HomeGoals'])])\n",
    "    draws = len(df[(df['Home'] == team) & (df['HomeGoals'] == df['AwayGoals'])]) + len(df[(df['Away'] == team) & (df['AwayGoals'] == df['HomeGoals'])])\n",
    "    total_games = len(df[(df['Home'] == team) | (df['Away'] == team)])\n",
    "    team_win_rates[team] = (home_wins + away_wins + 0.5 * draws) / total_games\n",
    "    # This is something i contemplated for a bit but for the sake of a baseline model i left it at .5 for a draw\n",
    "\n",
    "# Add win rate columns\n",
    "df['HomeTeamWinRate'] = df['Home'].map(team_win_rates)\n",
    "df['AwayTeamWinRate'] = df['Away'].map(team_win_rates)\n"
   ]
  },
  {
   "cell_type": "code",
   "execution_count": 80,
   "id": "f78fc27e",
   "metadata": {},
   "outputs": [
    {
     "data": {
      "text/plain": "0.7675438596491229"
     },
     "execution_count": 80,
     "metadata": {},
     "output_type": "execute_result"
    }
   ],
   "source": [
    "team_win_rates['Barcelona']"
   ]
  },
  {
   "cell_type": "code",
   "execution_count": 65,
   "outputs": [],
   "source": [
    "def match_result(row):\n",
    "    if row['HomeGoals'] > row['AwayGoals']:\n",
    "        return 'HomeWin'\n",
    "    elif row['HomeGoals'] < row['AwayGoals']:\n",
    "        return 'AwayWin'\n",
    "    else:\n",
    "        return 'Draw'\n",
    "\n",
    "df['Result'] = df.apply(match_result, axis=1)"
   ],
   "metadata": {
    "collapsed": false
   }
  },
  {
   "cell_type": "code",
   "execution_count": 66,
   "outputs": [],
   "source": [
    "df.drop(['HomeGoals', 'AwayGoals'], axis=1, inplace=True)"
   ],
   "metadata": {
    "collapsed": false
   }
  },
  {
   "cell_type": "code",
   "execution_count": 72,
   "outputs": [],
   "source": [
    "# Convert 'Day' to numerical features indicating the day of the week\n",
    "day_mapping = {\n",
    "    'Lun': 0,  # Monday\n",
    "    'Mar': 1,  # Tuesday\n",
    "    'Mié': 2,  # Wednesday\n",
    "    'Jue': 3,  # Thursday\n",
    "    'Vie': 4,  # Friday\n",
    "    'Sáb': 5,  # Saturday\n",
    "    'Dom': 6,  # Sunday\n",
    "}\n",
    "\n",
    "df['Day'] = df['Day'].map(day_mapping)\n",
    "\n",
    "# Convert 'Date' to year, month, and day features\n",
    "df['Year'] = pd.to_datetime(df['Date']).dt.year\n",
    "df['Month'] = pd.to_datetime(df['Date']).dt.month\n",
    "df['DayOfMonth'] = pd.to_datetime(df['Date']).dt.day\n",
    "\n",
    "# Assuming 'Time' is something like '15:00', '20:45', etc.\n",
    "df['Hour'] = pd.to_datetime(df['Time'], format='%H:%M').dt.hour\n",
    "\n",
    "# Drop the original 'Date' and 'Time' columns\n",
    "df = df.drop(columns=['Date', 'Time'])"
   ],
   "metadata": {
    "collapsed": false
   }
  },
  {
   "cell_type": "code",
   "execution_count": 73,
   "outputs": [],
   "source": [
    "df = df.drop(['Home', 'Away'], axis=1)"
   ],
   "metadata": {
    "collapsed": false
   }
  },
  {
   "cell_type": "code",
   "execution_count": 74,
   "outputs": [],
   "source": [
    "# One-hot encoding for 'Venue'\n",
    "venue_dummies = pd.get_dummies(df['Venue'], prefix='Venue')\n",
    "\n",
    "# Concatenate the original DataFrame and the dummy DataFrame\n",
    "df = pd.concat([df, venue_dummies], axis=1)\n",
    "\n",
    "# Drop the original 'Venue' column\n",
    "df = df.drop(columns=['Venue'])"
   ],
   "metadata": {
    "collapsed": false
   }
  },
  {
   "cell_type": "code",
   "execution_count": 75,
   "outputs": [],
   "source": [
    "from sklearn.model_selection import train_test_split\n",
    "\n",
    "# Separate features and target variable\n",
    "X = df.drop(columns=['Result'])\n",
    "y = df['Result']\n",
    "\n",
    "# Split data into training set and test set\n",
    "X_train, X_test, y_train, y_test = train_test_split(X, y, test_size=0.2, random_state=42)\n"
   ],
   "metadata": {
    "collapsed": false
   }
  },
  {
   "cell_type": "code",
   "execution_count": 76,
   "outputs": [
    {
     "data": {
      "text/plain": "Index(['Week', 'Day', 'xG', 'xg_away', 'HomeTeamWinRate', 'AwayTeamWinRate',\n       'Result', 'Year', 'Month', 'DayOfMonth', 'Hour', 'Venue_Camp Nou',\n       'Venue_Coliseum Alfonso Pérez', 'Venue_Estadi Municipal de Montilivi',\n       'Venue_Estadio Abanca-Riazor', 'Venue_Estadio Alfredo Di Stéfano',\n       'Venue_Estadio Benito Villamarín', 'Venue_Estadio Ciudad de Valencia',\n       'Venue_Estadio Cívitas Metropolitano', 'Venue_Estadio El Alcoraz',\n       'Venue_Estadio El Sadar', 'Venue_Estadio La Rosaleda',\n       'Venue_Estadio Manuel Martínez Valero',\n       'Venue_Estadio Municipal José Zorrilla',\n       'Venue_Estadio Municipal de Anoeta',\n       'Venue_Estadio Municipal de Butarque',\n       'Venue_Estadio Municipal de Ipurúa',\n       'Venue_Estadio Municipal de Riazor', 'Venue_Estadio Nuevo Los Cármenes',\n       'Venue_Estadio Nuevo Mirandilla', 'Venue_Estadio Ramón Sánchez Pizjuán',\n       'Venue_Estadio Ramón de Carranza', 'Venue_Estadio San Mamés',\n       'Venue_Estadio Santiago Bernabéu', 'Venue_Estadio Wanda Metropolitano',\n       'Venue_Estadio de Balaídos', 'Venue_Estadio de Gran Canaria',\n       'Venue_Estadio de Mendizorroza', 'Venue_Estadio de Mestalla',\n       'Venue_Estadio de la Cerámica', 'Venue_Estadio del Rayo Vallecano',\n       'Venue_Iberostar Estadi', 'Venue_Power Horse Stadium',\n       'Venue_RCDE Stadium', 'Venue_Reale Arena', 'Venue_San Mamés'],\n      dtype='object')"
     },
     "execution_count": 76,
     "metadata": {},
     "output_type": "execute_result"
    }
   ],
   "source": [
    "df.columns"
   ],
   "metadata": {
    "collapsed": false
   }
  },
  {
   "cell_type": "code",
   "execution_count": 77,
   "outputs": [
    {
     "name": "stdout",
     "output_type": "stream",
     "text": [
      "              precision    recall  f1-score   support\n",
      "\n",
      "     AwayWin       0.48      0.52      0.50       121\n",
      "        Draw       0.36      0.16      0.22       122\n",
      "     HomeWin       0.60      0.77      0.68       213\n",
      "\n",
      "    accuracy                           0.54       456\n",
      "   macro avg       0.48      0.48      0.46       456\n",
      "weighted avg       0.51      0.54      0.51       456\n",
      "\n"
     ]
    }
   ],
   "source": [
    "from sklearn.ensemble import RandomForestClassifier\n",
    "from sklearn.metrics import classification_report\n",
    "\n",
    "# Create a RandomForestClassifier\n",
    "clf = RandomForestClassifier(n_estimators=100, random_state=42)\n",
    "\n",
    "# Train the classifier\n",
    "clf.fit(X_train, y_train)\n",
    "\n",
    "# Predict the outcomes for the test set\n",
    "y_pred = clf.predict(X_test)\n",
    "\n",
    "# Print a classification report\n",
    "print(classification_report(y_test, y_pred))"
   ],
   "metadata": {
    "collapsed": false
   }
  },
  {
   "cell_type": "markdown",
   "source": [
    "### Thoughts on the results\n",
    "\n",
    "Obviously there are a lot of improvements we can make to this model.\n",
    "\n",
    "For example:\n",
    "- We can try different models and hyperparameters\n",
    "- We can try different features\n",
    "- We can try different ways of encoding the features\n",
    "- We can try different ways of handling missing data\n",
    "- We can try different ways of handling draws\n",
    "- etc.\n",
    "\n",
    "The point of this notebook wasn't necessarily to show how to build the best possible model, but rather show that GPT-4/ChatGPT can be used to improve workflows and make data science more accessible to people who don't have a background in data science.\n",
    "\n",
    "In the space of about 60 minutes I was able to go from no model to a baseline model I can start improving and iterating on.\n"
   ],
   "metadata": {
    "collapsed": false
   }
  },
  {
   "cell_type": "code",
   "execution_count": null,
   "outputs": [],
   "source": [],
   "metadata": {
    "collapsed": false
   }
  }
 ],
 "metadata": {
  "kernelspec": {
   "display_name": "Python 3 (ipykernel)",
   "language": "python",
   "name": "python3"
  },
  "language_info": {
   "codemirror_mode": {
    "name": "ipython",
    "version": 3
   },
   "file_extension": ".py",
   "mimetype": "text/x-python",
   "name": "python",
   "nbconvert_exporter": "python",
   "pygments_lexer": "ipython3",
   "version": "3.9.13"
  }
 },
 "nbformat": 4,
 "nbformat_minor": 5
}
